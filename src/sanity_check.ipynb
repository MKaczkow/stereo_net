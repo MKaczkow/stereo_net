{
 "cells": [
  {
   "cell_type": "code",
   "execution_count": null,
   "metadata": {},
   "outputs": [],
   "source": [
    "import numpy as np\n",
    "import matplotlib.pyplot as plt\n",
    "import torch\n",
    "\n",
    "from utils.utils_io import webp_loader, pfm_loader, plot_and_save_figure, plot_figure\n",
    "from utils.misc import Rescale, ToTensor, PadSampleToBatch"
   ]
  },
  {
   "cell_type": "code",
   "execution_count": null,
   "metadata": {},
   "outputs": [],
   "source": [
    "from model.model_sceneflow import StereoNet\n",
    "# from model.model_kitti_2015 import StereoNet\n",
    "# from model.model_kitti_2012 import StereoNet"
   ]
  },
  {
   "cell_type": "code",
   "execution_count": null,
   "metadata": {},
   "outputs": [],
   "source": [
    "path_to_left_rgb_image_file = \\\n",
    "r'fill_in'\n",
    "path_to_right_rgb_image_file = \\\n",
    "r'fill_in'\n",
    "path_to_left_disp_file = \\\n",
    "r'fill_in'\n"
   ]
  },
  {
   "cell_type": "code",
   "execution_count": null,
   "metadata": {},
   "outputs": [],
   "source": [
    "# Load in the image pair as numpy uint8 arrays\n",
    "sample = {'left': webp_loader(path_to_left_rgb_image_file),\n",
    "          'right': webp_loader(path_to_right_rgb_image_file)\n",
    "          }\n",
    "\n",
    "# sample = {'left': utils.image_loader(path_to_left_rgb_image_file),\n",
    "#           'right': utils.image_loader(path_to_right_rgb_image_file)\n",
    "#           }\n"
   ]
  },
  {
   "cell_type": "code",
   "execution_count": null,
   "metadata": {},
   "outputs": [],
   "source": [
    "# disp_gt = utils.pfm_loader(path_to_left_disp_file)\n",
    "disp_gt, scale = pfm_loader(path_to_left_disp_file)\n",
    "print(type(disp_gt), disp_gt.max(), disp_gt.min())"
   ]
  },
  {
   "cell_type": "code",
   "execution_count": null,
   "metadata": {},
   "outputs": [],
   "source": [
    "# plt.imshow(disp_gt[0])\n",
    "plt.imshow(disp_gt, cmap='plasma')"
   ]
  },
  {
   "cell_type": "code",
   "execution_count": null,
   "metadata": {},
   "outputs": [],
   "source": [
    "# Transform the single image pair into a torch.Tensor then into a\n",
    "# batch of shape [batch, channel, height, width]\n",
    "transformers = [\n",
    "    ToTensor(), \n",
    "    PadSampleToBatch(),\n",
    "    Rescale()\n",
    "    ]\n",
    "    \n",
    "for transformer in transformers:\n",
    "    sample = transformer(sample)\n"
   ]
  },
  {
   "cell_type": "code",
   "execution_count": null,
   "metadata": {},
   "outputs": [],
   "source": [
    "print(type(sample))\n",
    "print(sample.keys())\n",
    "\n",
    "print(type(sample['left']))\n",
    "print(sample['left'].shape)\n",
    "print(sample['left'].max())\n",
    "print(sample['left'].min())"
   ]
  },
  {
   "cell_type": "code",
   "execution_count": null,
   "metadata": {},
   "outputs": [],
   "source": [
    "plt.imshow(sample['left'].squeeze().moveaxis(0, 2))"
   ]
  },
  {
   "cell_type": "code",
   "execution_count": null,
   "metadata": {},
   "outputs": [],
   "source": [
    "base_model = StereoNet.load_from_checkpoint(\n",
    "    r'fill_in'\n",
    "    )"
   ]
  },
  {
   "cell_type": "code",
   "execution_count": null,
   "metadata": {},
   "outputs": [],
   "source": [
    "model = StereoNet.load_from_checkpoint(\n",
    "\n",
    "    # BEST SCENE FLOW\n",
    "    # r'fill_in'\n",
    "\n",
    "    # BEST KITTI 2015\n",
    "    # r'fill_in'\n",
    "\n",
    "    # BEST KITTI 2012\n",
    "    r'fill_in'\n",
    "\n",
    "    )"
   ]
  },
  {
   "cell_type": "code",
   "execution_count": null,
   "metadata": {},
   "outputs": [],
   "source": [
    "# Set the model to eval and run the forward method without tracking gradients\n",
    "model.eval()\n",
    "with torch.no_grad():\n",
    "    batched_prediction = model(sample)"
   ]
  },
  {
   "cell_type": "code",
   "execution_count": null,
   "metadata": {},
   "outputs": [],
   "source": [
    "base_model.eval()\n",
    "with torch.no_grad():\n",
    "    base_prediction = base_model(sample)"
   ]
  },
  {
   "cell_type": "code",
   "execution_count": null,
   "metadata": {},
   "outputs": [],
   "source": [
    "# Remove the batch diemnsion and switch back to channels last notation\n",
    "single_prediction = batched_prediction[0].numpy()  # [batch, ...] -> [...]\n",
    "single_prediction = np.moveaxis(single_prediction, 0, 2)  # [channel, height, width] -> [height, width, channel]\n",
    "\n",
    "single_base_prediction = base_prediction[0].numpy()  # [batch, ...] -> [...]\n",
    "single_base_prediction = np.moveaxis(single_base_prediction, 0, 2)  # [channel, height, width] -> [height, width, channel]"
   ]
  },
  {
   "cell_type": "code",
   "execution_count": null,
   "metadata": {},
   "outputs": [],
   "source": [
    "print(type(base_prediction))\n",
    "print(base_prediction.shape)\n",
    "print(base_prediction.max())\n",
    "print(base_prediction.min())\n",
    "\n",
    "print()\n",
    "\n",
    "print(type(batched_prediction))\n",
    "print(batched_prediction.shape)\n",
    "print(batched_prediction.max())\n",
    "print(batched_prediction.min())\n"
   ]
  },
  {
   "cell_type": "code",
   "execution_count": null,
   "metadata": {},
   "outputs": [],
   "source": [
    "print(type(single_base_prediction))\n",
    "print(single_base_prediction.shape)\n",
    "print(single_base_prediction.max())\n",
    "print(single_base_prediction.min())\n",
    "\n",
    "print()\n",
    "\n",
    "print(type(single_prediction))\n",
    "print(single_prediction.shape)\n",
    "print(single_prediction.max())\n",
    "print(single_prediction.min())\n",
    "\n",
    "print()\n",
    "\n",
    "\n",
    "print(type(disp_gt))\n",
    "print(disp_gt.shape)\n",
    "print(disp_gt.max())\n",
    "print(disp_gt.min())"
   ]
  },
  {
   "cell_type": "code",
   "execution_count": null,
   "metadata": {},
   "outputs": [],
   "source": [
    "plt.imshow(single_base_prediction, cmap='plasma')"
   ]
  },
  {
   "cell_type": "code",
   "execution_count": null,
   "metadata": {},
   "outputs": [],
   "source": [
    "plt.imshow(single_prediction, cmap='plasma')"
   ]
  },
  {
   "cell_type": "code",
   "execution_count": null,
   "metadata": {},
   "outputs": [],
   "source": [
    "print(type(sample['left']))\n",
    "print(type(sample['right']))\n",
    "print(type(disp_gt), disp_gt.shape, disp_gt.max(), disp_gt.min())\n",
    "print(type(single_prediction), single_prediction.shape, single_prediction.max(), single_prediction.min())\n",
    "\n",
    "single_prediction = single_prediction.squeeze()\n",
    "\n",
    "single_prediction = np.where(disp_gt > 0, single_prediction, 0)\n",
    "\n",
    "figure = plot_and_save_figure(sample['left'], sample['right'], disp_gt, single_prediction)"
   ]
  },
  {
   "cell_type": "code",
   "execution_count": null,
   "metadata": {},
   "outputs": [],
   "source": [
    "print((disp_gt - single_prediction).max())"
   ]
  },
  {
   "cell_type": "code",
   "execution_count": null,
   "metadata": {},
   "outputs": [],
   "source": [
    "plt.imshow(np.abs(disp_gt - single_prediction), cmap='plasma')"
   ]
  },
  {
   "cell_type": "code",
   "execution_count": null,
   "metadata": {},
   "outputs": [],
   "source": [
    "print(type(sample['left']))\n",
    "print(type(sample['right']))\n",
    "print(type(disp_gt), disp_gt.max(), disp_gt.min())\n",
    "print(type(single_base_prediction), single_base_prediction.max(), single_base_prediction.min())\n",
    "\n",
    "# figure = plot_figure(sample['left'], sample['right'], disp_gt[0], single_base_prediction)\n",
    "figure = plot_figure(sample['left'], sample['right'], disp_gt, single_base_prediction)"
   ]
  }
 ],
 "metadata": {
  "kernelspec": {
   "display_name": "Python 3",
   "language": "python",
   "name": "python3"
  },
  "language_info": {
   "codemirror_mode": {
    "name": "ipython",
    "version": 3
   },
   "file_extension": ".py",
   "mimetype": "text/x-python",
   "name": "python",
   "nbconvert_exporter": "python",
   "pygments_lexer": "ipython3",
   "version": "3.10.3"
  },
  "orig_nbformat": 4,
  "vscode": {
   "interpreter": {
    "hash": "a00b34671dc34a30d883103edd1ceaa70bd5c5c0b1bf6253f593c40367d49f66"
   }
  }
 },
 "nbformat": 4,
 "nbformat_minor": 2
}
